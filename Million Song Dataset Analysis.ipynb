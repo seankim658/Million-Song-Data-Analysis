{
 "cells": [
  {
   "cell_type": "markdown",
   "id": "74c8c4f8",
   "metadata": {},
   "source": [
    "## Imports"
   ]
  },
  {
   "cell_type": "code",
   "execution_count": null,
   "id": "c10f5361",
   "metadata": {},
   "outputs": [],
   "source": [
    "############\n",
    "# Built-in #\n",
    "############\n",
    "import os\n",
    "\n",
    "###############\n",
    "# Third-party #\n",
    "###############\n",
    "import numpy as np\n",
    "import pandas as pd\n",
    "from sqlalchemy import create_engine\n",
    "\n",
    "pd.set_option('display.max_columns', None)"
   ]
  },
  {
   "cell_type": "markdown",
   "id": "7eee3a96",
   "metadata": {},
   "source": [
    "## Database Connection Setup"
   ]
  },
  {
   "cell_type": "code",
   "execution_count": null,
   "id": "3ed6a6b2",
   "metadata": {},
   "outputs": [],
   "source": [
    "HOST = 'localhost'\n",
    "USER = 'db_user'\n",
    "PORT = 5438\n",
    "DATABASE = 'msd_db'\n",
    "PASSWORD = 'LetMeIn'\n",
    "TABLE_NAME = 'song_info'\n",
    "\n",
    "# Connect with SQLAlchemy\n",
    "conn_string = f'postgresql://{USER}:{PASSWORD}@{HOST}:{PORT}/{DATABASE}'\n",
    "sqla_conn = create_engine(conn_string)"
   ]
  },
  {
   "cell_type": "markdown",
   "id": "aa1ae7c9",
   "metadata": {},
   "source": [
    "## Data Loading"
   ]
  },
  {
   "cell_type": "code",
   "execution_count": null,
   "id": "0c0a4ec4",
   "metadata": {},
   "outputs": [],
   "source": [
    "tracks_df = pd.read_sql(\n",
    "    f'''\n",
    "        SELECT \n",
    "            *\n",
    "        FROM {TABLE_NAME}\n",
    "    ''',\n",
    "    sqla_conn\n",
    ")\n",
    "tracks_df.head()"
   ]
  }
 ],
 "metadata": {
  "kernelspec": {
   "display_name": "Python [conda env:EMSE6586] *",
   "language": "python",
   "name": "conda-env-EMSE6586-py"
  },
  "language_info": {
   "codemirror_mode": {
    "name": "ipython",
    "version": 3
   },
   "file_extension": ".py",
   "mimetype": "text/x-python",
   "name": "python",
   "nbconvert_exporter": "python",
   "pygments_lexer": "ipython3",
   "version": "3.8.13"
  }
 },
 "nbformat": 4,
 "nbformat_minor": 5
}
